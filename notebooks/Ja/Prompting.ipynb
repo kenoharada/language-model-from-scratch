{
 "cells": [
  {
   "cell_type": "markdown",
   "metadata": {},
   "source": [
    "[![Open In Colab](https://colab.research.google.com/assets/colab-badge.svg)](https://colab.research.google.com/github/kenoharada/language-model-from-scratch/blob/main/notebooks/Ja/Prompting.ipynb)"
   ]
  },
  {
   "cell_type": "markdown",
   "metadata": {},
   "source": [
    "- https://github.com/kenoharada/llm-api-utils"
   ]
  },
  {
   "cell_type": "code",
   "execution_count": 1,
   "metadata": {},
   "outputs": [
    {
     "name": "stdout",
     "output_type": "stream",
     "text": [
      "--2024-09-16 16:50:57--  https://raw.githubusercontent.com/kenoharada/llm-api-utils/main/llm_api_utils.py\n",
      "Resolving raw.githubusercontent.com (raw.githubusercontent.com)... 185.199.108.133, 185.199.109.133, 185.199.110.133, ...\n",
      "Connecting to raw.githubusercontent.com (raw.githubusercontent.com)|185.199.108.133|:443... connected.\n",
      "HTTP request sent, awaiting response... 200 OK\n",
      "Length: 9025 (8.8K) [text/plain]\n",
      "Saving to: ‘llm_api_utils.py’\n",
      "\n",
      "llm_api_utils.py    100%[===================>]   8.81K  --.-KB/s    in 0s      \n",
      "\n",
      "2024-09-16 16:50:57 (33.6 MB/s) - ‘llm_api_utils.py’ saved [9025/9025]\n",
      "\n"
     ]
    }
   ],
   "source": [
    "!wget https://raw.githubusercontent.com/kenoharada/llm-api-utils/main/llm_api_utils.py -O llm_api_utils.py"
   ]
  },
  {
   "cell_type": "code",
   "execution_count": 2,
   "metadata": {},
   "outputs": [],
   "source": [
    "# .envファイルにAPIキーを書いた場合\n",
    "!export $(grep -v '^#' ../../.env | xargs)"
   ]
  },
  {
   "cell_type": "code",
   "execution_count": 3,
   "metadata": {},
   "outputs": [],
   "source": [
    "# %env ANTHROPIC_API_KEY=XXXX\n",
    "# %env OPENAI_API_KEY=XXXX\n",
    "# %env GOOGLE_API_KEY=XXXX"
   ]
  },
  {
   "cell_type": "code",
   "execution_count": 4,
   "metadata": {},
   "outputs": [
    {
     "name": "stderr",
     "output_type": "stream",
     "text": [
      "/home/keno.harada/miniconda3/lib/python3.12/site-packages/tqdm/auto.py:21: TqdmWarning: IProgress not found. Please update jupyter and ipywidgets. See https://ipywidgets.readthedocs.io/en/stable/user_install.html\n",
      "  from .autonotebook import tqdm as notebook_tqdm\n"
     ]
    },
    {
     "name": "stdout",
     "output_type": "stream",
     "text": [
      "- 通り過ぎるたびに「やった！また私が勝った！」と叫ぶ台風。\n",
      "- 来るたびに家の中のものを全部別の場所に移動させて「引っ越し祝い」にしてくる台風。\n",
      "- 風速が爆笑レベルのギャグで、吹き飛ばされそうになったら「これが笑撃の風！」と言ってくる台風。\n"
     ]
    }
   ],
   "source": [
    "from llm_api_utils import get_llm_response\n",
    "\n",
    "\n",
    "model_name = 'gpt-4o-mini-2024-07-18'\n",
    "params = {\n",
    "    'temperature': 1.0,\n",
    "}\n",
    "\n",
    "messages = [\n",
    "    {\"role\": \"system\", \"content\": \"回答の際は、3つの回答を箇条書きで回答してください。\"},\n",
    "    {\"role\": \"user\", \"content\": \"大喜利しましょう。とても面白い回答をしてくださいね。\"},\n",
    "    {\"role\": \"assistant\", \"content\": \"おけ、任せて\"},\n",
    "    {\"role\": \"user\", \"content\": \"こんな台風は嫌だ、どんな台風？\"}\n",
    "]\n",
    "\n",
    "response = get_llm_response(model_name, params, messages)\n",
    "print(response)"
   ]
  },
  {
   "cell_type": "code",
   "execution_count": 9,
   "metadata": {},
   "outputs": [
    {
     "name": "stdout",
     "output_type": "stream",
     "text": [
      "小学生でも分かるような言葉を使って短いお話（3〜5段落）を書いてください。そのお話には、動詞の「食べる」・名詞の「犬」・形容詞の「怖い」を使ってください。お話には少なくとも一つの会話を含めてください。そしてお話はバッドエンドにしてください。\n"
     ]
    }
   ],
   "source": [
    "TINY_STORIES_PROMPT_TEMPLATE = \"小学生でも分かるような言葉を使って、短いお話（3〜5段落）を書いてください。そのお話には、動詞の「{verb}」・名詞の「{noun}」・形容詞の「{adjective}」を使ってください。お話には少なくとも一つの会話を含めてください。そしてお話はバッドエンドにしてください。\"\n",
    "\n",
    "prompt = TINY_STORIES_PROMPT_TEMPLATE.format(verb=\"食べる\", noun=\"犬\", adjective=\"怖い\")\n",
    "print(prompt)"
   ]
  },
  {
   "cell_type": "code",
   "execution_count": 10,
   "metadata": {},
   "outputs": [
    {
     "name": "stdout",
     "output_type": "stream",
     "text": [
      "ある日、小さな村に住む男の子、タケルがいました。タケルは犬が大好きで、毎日公園に遊びに行っていました。しかし、その公園にはとても怖い犬がいました。みんなその犬のことを「怖い犬」と呼んでいました。\n",
      "\n",
      "ある日、タケルは友達と一緒に公園に行きました。「タケル、あの怖い犬には近づかない方がいいよ」と友達のユウが言いました。でも、タケルは「でも、あの犬も友達になりたいかもしれないよ」と言って、怖い犬のところへ行きました。\n",
      "\n",
      "タケルが犬のそばに近づくと、犬は少しずつ近寄ってきました。タケルはその犬に「こんにちは、僕はタケルだよ。友達になりたいな」と言いました。すると、犬は急に吠え始めました。「ワン！」その大きな声にタケルは驚いて後ろに飛び跳ねました。\n",
      "\n",
      "その時、タケルはおやつのパンを持っていたことを思い出しました。彼はパンを犬に見せて「これ、食べる？」と言いました。しかし、犬は怖い顔をして、パンを怖がるように見つめていました。タケルは恐怖で動けなくなり、犬が近づいてきた瞬間、「ワン！」と吠えられ、タケルは全てを失ってしまいました。\n",
      "\n",
      "タケルは逃げようとしましたが、犬の勢いに飲み込まれてしまいました。そして、彼はもう公園に行くことができなくなってしまいました。村の人たちはタケルを心配しましたが、怖い犬の影に怯えたままだったのです。おしまい。\n"
     ]
    }
   ],
   "source": [
    "messages = [\n",
    "    {\"role\": \"user\", \"content\": prompt},\n",
    "]\n",
    "\n",
    "response = get_llm_response(model_name, params, messages)\n",
    "print(response)"
   ]
  },
  {
   "cell_type": "markdown",
   "metadata": {},
   "source": []
  }
 ],
 "metadata": {
  "kernelspec": {
   "display_name": "base",
   "language": "python",
   "name": "python3"
  },
  "language_info": {
   "codemirror_mode": {
    "name": "ipython",
    "version": 3
   },
   "file_extension": ".py",
   "mimetype": "text/x-python",
   "name": "python",
   "nbconvert_exporter": "python",
   "pygments_lexer": "ipython3",
   "version": "3.12.2"
  }
 },
 "nbformat": 4,
 "nbformat_minor": 2
}
