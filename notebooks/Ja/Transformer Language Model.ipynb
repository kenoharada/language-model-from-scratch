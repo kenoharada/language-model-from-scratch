{
 "cells": [
  {
   "attachments": {},
   "cell_type": "markdown",
   "metadata": {},
   "source": [
    "# Pre-training\n",
    "- 学習データの準備\n",
    "- 言語モデルとは\n",
    "- ニューラルネットワークを使用しない手法(uni-gram, bi-gram)\n",
    "- Transformer以前のニューラルネットワークを使用した言語モデル\n",
    "    - MLP\n",
    "    - RNN\n",
    "- Transformerを使用した言語モデル\n",
    "    - Self-AttentionとFeedforward Networkの実装、並列化\n",
    "    - GPT-2の実装\n",
    "\n",
    "プログラミングの解説・エラー解消や用語の解説GPT  \n",
    "https://chatgpt.com/g/g-H1Baw636t-mlxian-bei"
   ]
  },
  {
   "cell_type": "code",
   "execution_count": 3,
   "metadata": {},
   "outputs": [
    {
     "name": "stdout",
     "output_type": "stream",
     "text": [
      "Requirement already satisfied: japanize-matplotlib in /home/keno.harada/miniconda3/lib/python3.12/site-packages (1.1.3)\n",
      "Requirement already satisfied: matplotlib in /home/keno.harada/miniconda3/lib/python3.12/site-packages (from japanize-matplotlib) (3.9.1)\n",
      "Requirement already satisfied: contourpy>=1.0.1 in /home/keno.harada/miniconda3/lib/python3.12/site-packages (from matplotlib->japanize-matplotlib) (1.2.1)\n",
      "Requirement already satisfied: cycler>=0.10 in /home/keno.harada/miniconda3/lib/python3.12/site-packages (from matplotlib->japanize-matplotlib) (0.12.1)\n",
      "Requirement already satisfied: fonttools>=4.22.0 in /home/keno.harada/miniconda3/lib/python3.12/site-packages (from matplotlib->japanize-matplotlib) (4.53.1)\n",
      "Requirement already satisfied: kiwisolver>=1.3.1 in /home/keno.harada/miniconda3/lib/python3.12/site-packages (from matplotlib->japanize-matplotlib) (1.4.5)\n",
      "Requirement already satisfied: numpy>=1.23 in /home/keno.harada/miniconda3/lib/python3.12/site-packages (from matplotlib->japanize-matplotlib) (1.26.4)\n",
      "Requirement already satisfied: packaging>=20.0 in /home/keno.harada/miniconda3/lib/python3.12/site-packages (from matplotlib->japanize-matplotlib) (23.2)\n",
      "Requirement already satisfied: pillow>=8 in /home/keno.harada/miniconda3/lib/python3.12/site-packages (from matplotlib->japanize-matplotlib) (10.4.0)\n",
      "Requirement already satisfied: pyparsing>=2.3.1 in /home/keno.harada/miniconda3/lib/python3.12/site-packages (from matplotlib->japanize-matplotlib) (3.1.2)\n",
      "Requirement already satisfied: python-dateutil>=2.7 in /home/keno.harada/miniconda3/lib/python3.12/site-packages (from matplotlib->japanize-matplotlib) (2.9.0)\n",
      "Requirement already satisfied: six>=1.5 in /home/keno.harada/miniconda3/lib/python3.12/site-packages (from python-dateutil>=2.7->matplotlib->japanize-matplotlib) (1.16.0)\n"
     ]
    }
   ],
   "source": [
    "!pip install japanize-matplotlib"
   ]
  },
  {
   "attachments": {},
   "cell_type": "markdown",
   "metadata": {},
   "source": [
    "## 学習データの準備\n",
    "ChatGPTのような大規模言語モデルの学習には文書データを大量に集める必要があります。  \n",
    "データの集め方によってモデルの性能が大きく左右されるので、学習データの準備は重要な工程です。以下に参考になりそうな論文を載せておきます。  \n",
    "- [Dolma: an Open Corpus of Three Trillion Tokens for Language Model Pretraining Research](https://arxiv.org/abs/2402.00159)  \n",
    "- [FineWeb: decanting the web for the finest text data at scale](https://huggingface.co/spaces/HuggingFaceFW/blogpost-fineweb-v1)  \n",
    "- [Data Mixing Laws: Optimizing Data Mixtures by Predicting Language Modeling Performance](https://arxiv.org/abs/2403.16952)  \n",
    "- [To Code, or Not To Code? Exploring Impact of Code in Pre-training](https://arxiv.org/abs/2408.10914)  \n",
    "- [Instruction Pre-Training: Language Models are Supervised Multitask Learners](https://arxiv.org/abs/2406.14491)  \n",
    "- [Textbooks Are All You Need](https://arxiv.org/abs/2306.11644)  \n",
    "- [Physics of Language Models: Part 3.1, Knowledge Storage and Extraction](https://arxiv.org/abs/2309.14316)  \n",
    "- [松尾・岩澤研究室で開催したLLM勉強会での発表資料](https://docs.google.com/presentation/d/14SeP11PcgmNcl93Xt0ziSynxdrOVd2WM/edit?usp=sharing&ouid=101802221278095300433&rtpof=true&sd=true)  \n",
    "\n",
    "今回は[LLM-jpという団体](https://llm-jp.nii.ac.jp/)が整備したコーパスを利用します。\n",
    "- https://gitlab.llm-jp.nii.ac.jp/datasets/llm-jp-corpus-v2  "
   ]
  },
  {
   "cell_type": "code",
   "execution_count": 4,
   "metadata": {},
   "outputs": [],
   "source": [
    "# !wget --no-check-certificate https://gitlab.llm-jp.nii.ac.jp/datasets/llm-jp-corpus-v2/-/raw/main/ja/ja_wiki/train_9.jsonl.gz\n",
    "# !wget --no-check-certificate https://gitlab.llm-jp.nii.ac.jp/datasets/llm-jp-corpus-v2/-/raw/main/ja/ja_wiki/validation_0.jsonl.gz"
   ]
  },
  {
   "cell_type": "code",
   "execution_count": 5,
   "metadata": {},
   "outputs": [
    {
     "name": "stdout",
     "output_type": "stream",
     "text": [
      "dict_keys(['text', 'meta'])\n",
      "チリコシーは、アメリカ合衆国オハイオ州中央部南ロス郡の都市であり、同郡の郡庁所在地である。コロンバス大都市圏に属している。\n",
      "\n",
      "2010年の国勢調査では人口21,901 人だった。ロス郡では唯一の都市で\n",
      "{'id': '2973866', 'title': 'チリコシー (オハイオ州)', 'url': 'https://ja.wikipedia.org/wiki/%E3%83%81%E3%83%AA%E3%82%B3%E3%82%B7%E3%83%BC%20%28%E3%82%AA%E3%83%8F%E3%82%A4%E3%82%AA%E5%B7%9E%29'}\n"
     ]
    }
   ],
   "source": [
    "import gzip\n",
    "import json\n",
    "\n",
    "mini_train_data_file_num = 1000\n",
    "mini_train_data_text = \"\"\n",
    "file_count = 0\n",
    "with gzip.open('train_9.jsonl.gz', 'rt', encoding='utf-8') as f:\n",
    "    for line in f:\n",
    "        # 各行をJSONとして読み込む\n",
    "        data = json.loads(line)\n",
    "        mini_train_data_text += data['text'] + \"\\n\"\n",
    "        file_count += 1\n",
    "        if file_count == mini_train_data_file_num:\n",
    "            break\n",
    "print(data.keys())\n",
    "print(data['text'][:100])\n",
    "print(data['meta'])"
   ]
  },
  {
   "attachments": {},
   "cell_type": "markdown",
   "metadata": {},
   "source": [
    "## 言語モデルとは　　\n",
    "大規模言語モデルの\"言語モデル\"とは、単語列の出現確率をモデル化したものです。  \n",
    "確率を計算できるので、与えられた文章がよく見る文章(確率が高い)なのか、変な文章なのか(確率が低い)を判断することができたり、新たに文章を生成(確率に従ってくじ引きをする)することができます。\n",
    "より良い言語モデルの開発のためには、データとどのように確率をモデル化するかのデザインが重要です。\n",
    "### データについて\n",
    "言語モデルはデータを元に学習するため、そのデータに有益な情報(例えば日本の歴史や法律に関する文章)が含まれていないと、単語自身の理解や単語同士の関係性を学習することができません。  \n",
    "人間が本を読んだり、人との会話を通じて新しい知識を得たり、良い文章の書き方を学んだりするように、言語モデルもデータを通じて学習します。\n",
    "### モデル化について\n",
    "データを得たとしても、どのように確率をモデル化するかのデザインがうまくいかないと、良い言語モデルは作れません。\n",
    "- データ中の文字を数え上げて前の1単語から次の1単語を予測するモデル\n",
    "- ニューラルネットワークの一種であるMLPを用いて、前の数単語から次の1単語を予測するモデル\n",
    "- Transformerを用いて、より長い文脈を考慮して次の単語を予測するモデル  \n",
    "\n",
    "を開発します。"
   ]
  },
  {
   "attachments": {},
   "cell_type": "markdown",
   "metadata": {},
   "source": [
    "## ニューラルネットワークを使用しない、数え上げによる手法(uni-gram, bi-gram)の言語モデル"
   ]
  },
  {
   "attachments": {},
   "cell_type": "markdown",
   "metadata": {},
   "source": [
    "### n-gram 言語モデル\n",
    "$P\\left(w_1, \\ldots, w_m\\right)=\\prod_{i=1}^{i=m} P\\left(w_i \\mid w_1, \\ldots, w_{i-1}\\right) \\approx \\prod_{i=1}^{i=m} P\\left(w_i \\mid w_{i-n}, \\ldots, w_{i-1}\\right)$\n",
    "\n",
    "#### uni-gramモデル\n",
    "$P\\left(w_1, \\ldots, w_m\\right) \\approx \\prod_{i=1}^{i=m} P(w_i)$\n",
    "\n",
    "#### bi-gramモデル  \n",
    "$P\\left(w_1, \\ldots, w_m\\right)\\approx \\prod_{i=1}^{i=m} P\\left(w_i \\mid w_{i-1}\\right)$\n",
    "\n",
    "$P\\left(w_{i} \\mid w_{i-1}\\right)=\\frac{\\operatorname{count}\\left(w_{i}, w_{i-1}\\right)}{\\operatorname{count}\\left(w_{i}\\right)}$"
   ]
  },
  {
   "cell_type": "code",
   "execution_count": 6,
   "metadata": {},
   "outputs": [
    {
     "name": "stdout",
     "output_type": "stream",
     "text": [
      "『勝つか死ぬか』はHBO(日本ではスター・チャンネルが放送)のファンタジー・ドラマ・シリーズである『ゲーム・オブ・スローンズ』の第1章『七王国戦記』の第7話である。プロデューサーでもあるデイヴィッド・\n",
      "------------------------\n",
      "全体の文字数:  1569582\n",
      "文字の種類:  3807\n"
     ]
    }
   ],
   "source": [
    "print(mini_train_data_text[:100])\n",
    "print('------------------------')\n",
    "print('全体の文字数: ', len(mini_train_data_text))\n",
    "print('文字の種類: ', len(set(mini_train_data_text)))"
   ]
  },
  {
   "cell_type": "code",
   "execution_count": 7,
   "metadata": {},
   "outputs": [
    {
     "name": "stdout",
     "output_type": "stream",
     "text": [
      "出現頻度の高い文字\n",
      "[(' ', 53441), ('\\n', 44189), ('の', 38675), ('、', 30453), ('ー', 29588)]\n",
      "\n",
      "'日'の確率 = '日'の出現回数 ÷ 全体の文字数 =  7361 ÷ 1569582 = 0.004689783649404746\n",
      "'日本'の確率 = '日'の確率 x '本'の確率 = 0.004689783649404746 x 0.001984604818352912 = 9.307367227641361e-06\n",
      "'日曜'の確率 = '日'の確率 x '曜'の確率 = 0.004689783649404746 x 0.00018093989355127672 = 8.485689543018127e-07\n"
     ]
    }
   ],
   "source": [
    "character_count = {}\n",
    "for character in mini_train_data_text:\n",
    "    character_count[character] = character_count.get(character, 0) + 1\n",
    "# 出現頻度の高い文字を上位5個表示\n",
    "print('出現頻度の高い文字')\n",
    "print(sorted(character_count.items(), key = lambda kv: -kv[1])[:5])\n",
    "\n",
    "# 過去の情報を考慮しないuni-gramモデル\n",
    "print()\n",
    "total_count = sum(character_count.values())\n",
    "ch_0 = '日'\n",
    "ch_1 = '本'\n",
    "ch_2 = '曜'\n",
    "print(f\"'{ch_0}'の確率 = '{ch_0}'の出現回数 ÷ 全体の文字数 =  {character_count[ch_0]} ÷ {total_count} = {character_count[ch_0] / total_count}\")\n",
    "print(f\"'{ch_0 + ch_1}'の確率 = '{ch_0}'の確率 x '{ch_1}'の確率 = {character_count[ch_0] / total_count} x {character_count[ch_1] / total_count} = {character_count[ch_0] * character_count[ch_1] / total_count ** 2}\")\n",
    "print(f\"'{ch_0 + ch_2}'の確率 = '{ch_0}'の確率 x '{ch_2}'の確率 = {character_count[ch_0] / total_count} x {character_count[ch_2] / total_count} = {character_count[ch_0] * character_count[ch_2] / total_count ** 2}\")"
   ]
  },
  {
   "cell_type": "code",
   "execution_count": 8,
   "metadata": {},
   "outputs": [
    {
     "data": {
      "image/png": "[encoded data removed]",
      "text/plain": [
       "<Figure size 640x480 with 1 Axes>"
      ]
     },
     "metadata": {},
     "output_type": "display_data"
    }
   ],
   "source": [
    "# 出現確率の可視化\n",
    "import matplotlib.pyplot as plt\n",
    "import japanize_matplotlib\n",
    "\n",
    "total_count = sum(character_count.values())\n",
    "# 上位30文字の出現頻度を取る\n",
    "top_k = 30\n",
    "top_k_key = sorted(character_count.keys(), key = lambda k: -character_count[k])[:top_k]\n",
    "top_k_value = [character_count[k] for k in top_k_key]\n",
    "top_k_probability = [v / total_count for v in top_k_value]\n",
    "\n",
    "# x軸に文字、y軸に出現頻度を取る\n",
    "plt.bar(top_k_key, top_k_probability)\n",
    "plt.show()"
   ]
  },
  {
   "cell_type": "code",
   "execution_count": 9,
   "metadata": {},
   "outputs": [
    {
     "name": "stdout",
     "output_type": "stream",
     "text": [
      "' '\n",
      "' '\n",
      "' '\n",
      "' '\n",
      "' '\n",
      "' '\n",
      "' '\n",
      "' '\n",
      "' '\n",
      "' '\n",
      "' '\n",
      "' '\n",
      "' '\n",
      "' '\n",
      "' '\n",
      "' '\n",
      "' '\n",
      "' '\n",
      "' '\n",
      "' '\n",
      "'『勝つか                    '\n"
     ]
    }
   ],
   "source": [
    "# 生成\n",
    "# greedy decoding\n",
    "max_tokens = 20\n",
    "generated_text = '『勝つか'\n",
    "for _ in range(max_tokens):\n",
    "    next_char = max(character_count, key=lambda k: character_count[k]) # 最も出現頻度が高い文字を選択, greedy decoding\n",
    "    print(repr(next_char))\n",
    "    generated_text += next_char\n",
    "\n",
    "print(repr(generated_text))"
   ]
  },
  {
   "cell_type": "code",
   "execution_count": 10,
   "metadata": {},
   "outputs": [
    {
     "name": "stdout",
     "output_type": "stream",
     "text": [
      "' '\n",
      "'著'\n",
      "'と'\n",
      "'ロ'\n",
      "'ー'\n",
      "'3'\n",
      "'て'\n",
      "'V'\n",
      "'）'\n",
      "'d'\n",
      "'ス'\n",
      "'優'\n",
      "'イ'\n",
      "'れ'\n",
      "' '\n",
      "'後'\n",
      "'け'\n",
      "'ジ'\n",
      "'、'\n",
      "'\\n'\n",
      "'『勝つか 著とロー3てV）dス優イれ 後けジ、\\n'\n"
     ]
    }
   ],
   "source": [
    "# top_p sampling\n",
    "import random\n",
    "max_tokens = 20\n",
    "top_p = 0.9\n",
    "generated_text = '『勝つか'\n",
    "for _ in range(max_tokens):\n",
    "    sorted_character_count = sorted(character_count.items(), key=lambda kv: -kv[1])\n",
    "    cumulative_probability = 0\n",
    "    vocab = []\n",
    "    vocab_count = []\n",
    "    vocab_total_count = 0\n",
    "    for character, count in sorted_character_count:\n",
    "        cumulative_probability += count / total_count\n",
    "        if cumulative_probability > top_p:\n",
    "            break\n",
    "        vocab.append(character)\n",
    "        vocab_count.append(count)\n",
    "        vocab_total_count += count\n",
    "    probablity = [count / vocab_total_count for count in vocab_count]\n",
    "    next_char = random.choices(vocab, probablity)[0]\n",
    "    print(repr(next_char))\n",
    "    generated_text += next_char\n",
    "print(repr(generated_text))"
   ]
  },
  {
   "cell_type": "markdown",
   "metadata": {},
   "source": [
    "### Tokenizer\n",
    "Tokenizerの設計も重要です、以下に参考となるリンクを載せておきます。  \n",
    "- [Let's build the GPT Tokenizer](https://www.youtube.com/watch?v=zduSFxRajkE)  \n",
    "- [Scaling Laws with Vocabulary: Larger Models Deserve Larger Vocabularies](https://arxiv.org/abs/2407.13623)  \n",
    "- [ByT5: Towards a Token-Free Future with Pre-trained Byte-to-Byte Models](https://arxiv.org/abs/2105.13626)  \n",
    "- GPTシリーズのTokenizer: https://github.com/openai/tiktoken\n",
    "- Llama2やLLM-jpのtokenizerを作成する際に利用: https://github.com/google/sentencepiece\n",
    "- Byte Pair Encodingの実装: https://github.com/kenoharada/language-model-from-scratch/blob/main/notebooks/Ja/Tokenizer.ipynb  "
   ]
  },
  {
   "cell_type": "code",
   "execution_count": 11,
   "metadata": {},
   "outputs": [
    {
     "name": "stdout",
     "output_type": "stream",
     "text": [
      "[3054, 3098, 438, 411, 447, 335, 771, 1365, 336, 1900, 312, 293, 328, 314, 270, 0]\n"
     ]
    }
   ],
   "source": [
    "chars = sorted(list(set(mini_train_data_text)))\n",
    "\n",
    "class Tokenizer:\n",
    "    def __init__(self, chars):\n",
    "        self.str_to_idx = dict()\n",
    "        self.str_to_idx['<|endoftext|>'] = 0\n",
    "        for char in chars:\n",
    "            self.str_to_idx[char] = len(self.str_to_idx)\n",
    "        self.idx_to_str = dict()\n",
    "        for key, value in self.str_to_idx.items():\n",
    "            self.idx_to_str[value] = key\n",
    "    \n",
    "    def encode(self, text):\n",
    "        chs = list(text) + ['<|endoftext|>']\n",
    "        return [self.str_to_idx[ch] for ch in chs]\n",
    "    \n",
    "    def decode(self, index_list):\n",
    "        return ''.join([self.idx_to_str[i] for i in index_list])\n",
    "\n",
    "tokenizer = Tokenizer(chars) # Tokenizerの初期化、一般的にはByte Pair EncodingやUnigram Language Modelなどを活用してTokenizerを実装する\n",
    "text = '言語モデルの勉強は楽しいです。'\n",
    "print(tokenizer.encode(text))"
   ]
  },
  {
   "cell_type": "code",
   "execution_count": 12,
   "metadata": {},
   "outputs": [
    {
     "name": "stdout",
     "output_type": "stream",
     "text": [
      "言語モデルの勉強は楽しいです。<|endoftext|>\n"
     ]
    }
   ],
   "source": [
    "print(tokenizer.decode(tokenizer.encode(text)))"
   ]
  },
  {
   "cell_type": "code",
   "execution_count": 13,
   "metadata": {},
   "outputs": [
    {
     "name": "stdout",
     "output_type": "stream",
     "text": [
      "出現頻度の高いbigram\n",
      "[((2, 3), 14841), ((270, 2), 10469), ((2, 2), 9382), ((364, 270), 8329), ((21, 19), 7166), ((3, 16), 6726), ((16, 3), 6423), ((320, 270), 5829), ((327, 293), 5599), ((312, 327), 5552)]\n",
      "'\\n' ' ' 14841\n",
      "'。' '\\n' 10469\n",
      "'\\n' '\\n' 9382\n",
      "'る' '。' 8329\n",
      "'2' '0' 7166\n",
      "' ' '-' 6726\n",
      "'-' ' ' 6423\n",
      "'た' '。' 5829\n",
      "'て' 'い' 5599\n",
      "'し' 'て' 5552\n"
     ]
    }
   ],
   "source": [
    "# bi-gramモデル\n",
    "bigram_count = {}\n",
    "mini_train_data_tokens = []\n",
    "mini_train_data_file_num = 1000\n",
    "mini_train_data_text = \"\"\n",
    "file_count = 0\n",
    "\n",
    "with gzip.open('train_9.jsonl.gz', 'rt', encoding='utf-8') as f:\n",
    "    for line in f:\n",
    "        # 各行をJSONとして読み込む\n",
    "        data = json.loads(line)\n",
    "        mini_train_data_tokens += tokenizer.encode(data['text'])\n",
    "        file_count += 1\n",
    "        if file_count == mini_train_data_file_num:\n",
    "            break\n",
    "\n",
    "for i in range(len(mini_train_data_tokens) - 1):\n",
    "    bigram = (mini_train_data_tokens[i], mini_train_data_tokens[i+1])\n",
    "    bigram_count[bigram] = bigram_count.get(bigram, 0) + 1\n",
    "\n",
    "# top-kのbigramを表示\n",
    "print('出現頻度の高いbigram')\n",
    "top_k = 10\n",
    "top_k_bigram = sorted(bigram_count.items(), key = lambda kv: -kv[1])[:top_k]\n",
    "print(top_k_bigram)\n",
    "# decodeして確認\n",
    "for bigram, count in top_k_bigram:\n",
    "    print(repr(tokenizer.decode([bigram[0]])), repr(tokenizer.decode([bigram[1]])), count)"
   ]
  },
  {
   "cell_type": "code",
   "execution_count": 14,
   "metadata": {},
   "outputs": [
    {
     "name": "stdout",
     "output_type": "stream",
     "text": [
      "'ら'\n",
      "'れ'\n",
      "'た'\n",
      "'。'\n",
      "'\\n'\n",
      "' '\n",
      "'-'\n",
      "' '\n",
      "'-'\n",
      "' '\n",
      "'-'\n",
      "' '\n",
      "'-'\n",
      "' '\n",
      "'-'\n",
      "' '\n",
      "'-'\n",
      "' '\n",
      "'-'\n",
      "' '\n",
      "[280, 776, 325, 300, 362, 365, 320, 270, 2, 3, 16, 3, 16, 3, 16, 3, 16, 3, 16, 3, 16, 3, 16, 3]\n",
      "『勝つかられた。\n",
      " - - - - - - - \n"
     ]
    }
   ],
   "source": [
    "# 生成\n",
    "# greedy decoding\n",
    "max_tokens = 20\n",
    "generated_text = '『勝つか'\n",
    "generated_tokens = tokenizer.encode(generated_text)[:-1]\n",
    "for _ in range(max_tokens):\n",
    "    next_token = max(bigram_count, key=lambda k: bigram_count[k] if k[0] == generated_tokens[-1] else 0) # 直前の文字が来たときの次の文字の出現頻度が最も高いものを選択\n",
    "    generated_tokens.append(next_token[1])\n",
    "    print(repr(tokenizer.decode([next_token[1]])))\n",
    "print(generated_tokens)\n",
    "print(tokenizer.decode(generated_tokens))"
   ]
  },
  {
   "cell_type": "code",
   "execution_count": 15,
   "metadata": {},
   "outputs": [],
   "source": [
    "from collections import defaultdict\n",
    "import torch\n",
    "from torch.nn import functional as F\n",
    "import copy\n",
    "\n",
    "\n",
    "class Ngram:\n",
    "    def __init__(self, n, vocab, laplace=1):\n",
    "        self.n = n\n",
    "        self.vocab = vocab\n",
    "        self.laplace = laplace\n",
    "        self.ngram = defaultdict(lambda: laplace)\n",
    "        self.context_count = defaultdict(lambda: laplace * len(self.vocab))\n",
    "    \n",
    "    def train(self, token_list):\n",
    "        assert isinstance(token_list, list)\n",
    "        for i in range(len(token_list) - self.n + 1):\n",
    "            ngram_list = copy.deepcopy(token_list[i:i+self.n])\n",
    "            ngram_list = [str(i) for i in ngram_list]\n",
    "            context = ngram_list[:-1]\n",
    "            ngram_key = '-'.join(ngram_list)\n",
    "            context_key = '-'.join(context)\n",
    "            self.ngram[ngram_key] += 1\n",
    "            self.context_count[context_key] += 1\n",
    "    \n",
    "\n",
    "    def train_batch(self, token_list):\n",
    "        for tokens in token_list:\n",
    "            self.train(tokens)\n",
    "    \n",
    "    def get_prob(self, ngram):\n",
    "        if self.n == 1:\n",
    "            return self.ngram[ngram] / len(self.vocab)\n",
    "        else:\n",
    "            context = ngram.split('-')[:-1]\n",
    "            context = '-'.join(context)\n",
    "            return self.ngram[ngram] / self.context_count[context]\n",
    "    \n",
    "    def get_prob_distribution(self, n_minus_1_gram):\n",
    "        distribution = []\n",
    "        distribution_dict = {}\n",
    "        for word in self.vocab:\n",
    "            ngram_list = n_minus_1_gram + [word]\n",
    "            ngram = '-'.join([str(i) for i in ngram_list])\n",
    "            # print('hi', ngram)\n",
    "            distribution.append(self.get_prob(ngram))\n",
    "            distribution_dict[word] = self.get_prob(ngram)\n",
    "        return distribution, distribution_dict\n",
    "    \n",
    "    def forward(self, token_indexes):\n",
    "        # token_indexes: (batch_size, sequence_length)\n",
    "        if isinstance(token_indexes, torch.Tensor) or isinstance(token_indexes, torch.LongTensor):\n",
    "            token_indexes = token_indexes.tolist()\n",
    "        assert isinstance(token_indexes, list)\n",
    "        batch_size = len(token_indexes)\n",
    "        sequence_length = len(token_indexes[0])\n",
    "        distributions = torch.ones(batch_size, sequence_length, len(self.vocab))\n",
    "        distributions /= len(self.vocab)\n",
    "        for i in range(sequence_length):\n",
    "            for batch in range(batch_size):\n",
    "                if self.n == 2:\n",
    "                    context = [token_indexes[batch][i]]\n",
    "                else:\n",
    "                    if i < self.n - 1:\n",
    "                        if i == 0:\n",
    "                            context = [token_indexes[batch][i]]\n",
    "                        else:\n",
    "                            context = token_indexes[batch][:i+1]\n",
    "                    else:\n",
    "                        context = token_indexes[batch][i-self.n+2:i+1]\n",
    "                distribution, _ = self.get_prob_distribution(context)\n",
    "                distributions[batch, i] = torch.tensor(distribution)\n",
    "        # distributions: (batch_size, sequence_length, vocab_size)\n",
    "        return distributions\n",
    "    \n",
    "    def loss(self, token_indexes, targets):\n",
    "        # token_indexes: (batch_size, sequence_length)\n",
    "        # targets: (batch_size, sequence_length)\n",
    "        distributions = self.forward(token_indexes)\n",
    "        distributions = distributions.to(targets.device)\n",
    "        log_distributions = torch.log(distributions)\n",
    "        # targets: (batch_size, sequence_length)\n",
    "        batch_size, sequence_length, vocab_size = log_distributions.shape\n",
    "        loss = F.nll_loss(\n",
    "            log_distributions.view(batch_size*sequence_length, vocab_size),\n",
    "            targets.view(batch_size*sequence_length)\n",
    "            )\n",
    "        # loss: scalar\n",
    "        return loss\n",
    "    \n",
    "    def generate(self, token_indexes, max_length=10):\n",
    "        # token_indexes: (batch_size, sequence_length)\n",
    "        for _ in range(max_length):\n",
    "            distributions = self.forward(token_indexes)\n",
    "            distributions = distributions[0, -1]\n",
    "            # greedy decoding\n",
    "            next_token = torch.argmax(distributions).item()\n",
    "            token_indexes[0].append(next_token)\n",
    "        return token_indexes"
   ]
  },
  {
   "cell_type": "code",
   "execution_count": 16,
   "metadata": {},
   "outputs": [
    {
     "name": "stdout",
     "output_type": "stream",
     "text": [
      "'『'\n",
      "'勝'\n",
      "'つ'\n",
      "'か'\n",
      "'ら'\n",
      "'れ'\n",
      "'た'\n",
      "'。'\n",
      "'\\n'\n",
      "' '\n",
      "'-'\n",
      "' '\n",
      "'-'\n",
      "' '\n",
      "'-'\n",
      "' '\n",
      "'-'\n",
      "' '\n",
      "'-'\n",
      "' '\n",
      "'-'\n",
      "' '\n",
      "'-'\n",
      "' '\n"
     ]
    }
   ],
   "source": [
    "ngram = Ngram(2, tokenizer.str_to_idx.values())\n",
    "ngram.train(mini_train_data_tokens)\n",
    "generated_text = '『勝つか'\n",
    "context_token_indexes = [tokenizer.encode(generated_text)[:-1]]\n",
    "generated_tokens = ngram.generate(context_token_indexes, max_length=20)\n",
    "for token in generated_tokens[0]:\n",
    "    print(repr(tokenizer.decode([token])))"
   ]
  },
  {
   "cell_type": "code",
   "execution_count": 17,
   "metadata": {},
   "outputs": [
    {
     "name": "stdout",
     "output_type": "stream",
     "text": [
      "'『'\n",
      "'勝'\n",
      "'つ'\n",
      "'か'\n",
      "'死'\n",
      "'ぬ'\n",
      "'か'\n",
      "'』'\n",
      "'は'\n",
      "'H'\n",
      "'B'\n",
      "'O'\n",
      "'('\n",
      "'日'\n",
      "'本'\n",
      "'で'\n",
      "'は'\n",
      "'ス'\n",
      "'タ'\n",
      "'ー'\n",
      "'・'\n",
      "'ウ'\n",
      "'ォ'\n",
      "'ー'\n"
     ]
    }
   ],
   "source": [
    "ngram = Ngram(4, tokenizer.str_to_idx.values())\n",
    "ngram.train(mini_train_data_tokens)\n",
    "generated_text = '『勝つか'\n",
    "context_token_indexes = [tokenizer.encode(generated_text)[:-1]]\n",
    "generated_tokens = ngram.generate(context_token_indexes, max_length=20)\n",
    "for token in generated_tokens[0]:\n",
    "    print(repr(tokenizer.decode([token])))"
   ]
  },
  {
   "cell_type": "code",
   "execution_count": 21,
   "metadata": {},
   "outputs": [
    {
     "name": "stdout",
     "output_type": "stream",
     "text": [
      "パラメータ数: 14500864\n"
     ]
    }
   ],
   "source": [
    "n = 2\n",
    "parameters = len(tokenizer.str_to_idx) ** n\n",
    "print(f'パラメータ数: {parameters}')"
   ]
  },
  {
   "attachments": {},
   "cell_type": "markdown",
   "metadata": {},
   "source": [
    "## ニューラルネットワークを使用した言語モデル　　\n",
    "言語モデルをデザインする際に、過去の文脈を考慮するとより自然な文章のモデリングができると考えられます。  \n",
    "ただ、N-gramモデルのパラメータ数のオーダーは、$O\\left(\\left|V\\right|^n\\right)$　となり、過去の文脈が増えれば増えるほど組み合わせが膨大になります。  \n",
    "組み合わせ単位で数え上げているため、データ中に出現しない組み合わせがあると、その組み合わせの確率は0となり、その後の予測ができなくなってしまいます。  \n",
    "\n",
    "また、組み合わせ別の数え上げでは、単語・文脈をそれぞれ独立したものとして扱っており、単語の意味や文脈を共有した表現が得られません。\n",
    "\n",
    "解決策として組み合わせの表によるモデル化ではなく、ニューラルネットワークと単語ベクトルの表現を用いることでモデル化を行います。\n",
    "\n",
    "ニューラルネットワークの学習の際に行う、次単語予測によって単語ベクトルには単語の意味や概念が付与され、ニューラルネットワークのパラメータには単語同士の関係性が学習されることが期待されます。\n",
    "\n",
    "日本で最も高い山は「？」の？を当てるために、\n",
    "- ？には文法的に名詞が入る\n",
    "- その候補は文脈的に山であり\n",
    "- 日本で最も高いという情報がある、というような文脈上のどの情報に着目するか\n",
    "- 文脈を踏まえた上で今まで得た知識をどのように組み合わせるか\n",
    "\n",
    "ということをニューラルネットワークが学習します。"
   ]
  },
  {
   "attachments": {},
   "cell_type": "markdown",
   "metadata": {},
   "source": [
    "### MLPによるモデル化"
   ]
  },
  {
   "cell_type": "code",
   "execution_count": 92,
   "metadata": {},
   "outputs": [],
   "source": [
    "import torch\n",
    "import torch.nn as nn\n",
    "from torch.nn import functional as F\n",
    "\n",
    "torch.manual_seed(1337)\n",
    "\n",
    "class BigramLanguageModel(nn.Module):\n",
    "    def __init__(self, vocab_size, d_model, d_ff):\n",
    "        super().__init__()\n",
    "        # 単語ベクトルの取得\n",
    "        self.token_embedding_table = nn.Embedding(vocab_size, d_model)\n",
    "        # FeedForward Layer\n",
    "        self.ff = nn.Sequential(\n",
    "            nn.Linear(d_model, d_ff),\n",
    "            nn.ReLU(),\n",
    "            nn.Linear(d_ff, d_model)\n",
    "            )\n",
    "        # vocab_sizeへの変換\n",
    "        self.linear = nn.Linear(d_model, vocab_size)\n",
    "        print('number of parameters:', sum(p.numel() for p in self.parameters()))\n",
    "    \n",
    "    def forward(self, token_indexes):\n",
    "        # token_index: (batch_size, sequence_length)\n",
    "        embedding = self.token_embedding_table(token_indexes)\n",
    "        logits = self.linear(self.ff(embedding))\n",
    "        # logits: (batch_size, sequence_length, vocab_size)\n",
    "        return logits\n",
    "\n",
    "    def loss_per_token(self, token_indexes, targets):\n",
    "        logits = self(token_indexes)\n",
    "        # logits: (batch_size, sequence_length, vocab_size)\n",
    "        # targets: (batch_size, sequence_length)\n",
    "        batch_size, sequence_length, vocab_size = logits.shape\n",
    "        loss = F.cross_entropy(\n",
    "            logits.view(batch_size*sequence_length, vocab_size),\n",
    "            targets.view(batch_size*sequence_length),\n",
    "            reduction='none'\n",
    "            )\n",
    "        # loss: (batch_size*sequence_length)\n",
    "        return loss.view(batch_size, sequence_length)\n",
    "    \n",
    "    def loss(self, token_indexes, targets):\n",
    "        logits = self(token_indexes)\n",
    "        # logits: (batch_size, sequence_length, vocab_size)\n",
    "        # targets: (batch_size, sequence_length)\n",
    "        batch_size, sequence_length, vocab_size = logits.shape\n",
    "        loss = F.cross_entropy(\n",
    "            logits.view(batch_size*sequence_length, vocab_size),\n",
    "            targets.view(batch_size*sequence_length)\n",
    "            )\n",
    "        # loss: scalar\n",
    "        return loss\n",
    "    \n",
    "    def generate(self, token_indexes, max_new_tokens):\n",
    "        # token_indexes: (batch_size, sequence_length)\n",
    "        batch_size, sequence_length = token_indexes.shape\n",
    "        for _ in range(max_new_tokens):\n",
    "            logits = self(token_indexes)\n",
    "            # logits: (batch_size, sequence_length, vocab_size)\n",
    "            next_token_logits = logits[:, -1, :]\n",
    "            # next_token_logits: (batch_size, vocab_size)\n",
    "            next_token_probs = F.softmax(next_token_logits, dim=-1)\n",
    "            # next_token_probs: (batch_size, vocab_size)\n",
    "            # greedy decoding\n",
    "            next_token = torch.argmax(next_token_probs, dim=-1, keepdim=True)\n",
    "            # next_token = torch.multinomial(next_token_probs, num_samples=1)\n",
    "            # next_token: (batch_size, 1)\n",
    "            token_indexes = torch.cat([token_indexes, next_token], dim=1)\n",
    "            # token_indexes: (batch_size, sequence_length+1)\n",
    "        return token_indexes"
   ]
  },
  {
   "cell_type": "code",
   "execution_count": 93,
   "metadata": {},
   "outputs": [
    {
     "name": "stdout",
     "output_type": "stream",
     "text": [
      "number of parameters: 34420\n"
     ]
    }
   ],
   "source": [
    "vocab_size = len(tokenizer.str_to_idx)\n",
    "d_model = 4\n",
    "d_ff = d_model * 4\n",
    "nn_lm = BigramLanguageModel(vocab_size, d_model, d_ff)"
   ]
  },
  {
   "cell_type": "code",
   "execution_count": 94,
   "metadata": {},
   "outputs": [
    {
     "name": "stdout",
     "output_type": "stream",
     "text": [
      "tensor([[280, 776, 325]])\n",
      "『勝つ\n",
      "tensor([[776, 325, 300]])\n",
      "勝つか\n"
     ]
    }
   ],
   "source": [
    "text = '『勝つか'\n",
    "token_indexes = torch.tensor([tokenizer.encode(text)[:-1]])\n",
    "input_token_indexes = token_indexes[:, :-1]\n",
    "target_token_indexes = token_indexes[:, 1:]\n",
    "print(input_token_indexes)\n",
    "print(tokenizer.decode(input_token_indexes[0].tolist()))\n",
    "\n",
    "print(target_token_indexes)\n",
    "print(tokenizer.decode(target_token_indexes[0].tolist()))"
   ]
  },
  {
   "cell_type": "code",
   "execution_count": 95,
   "metadata": {},
   "outputs": [
    {
     "name": "stdout",
     "output_type": "stream",
     "text": [
      "tensor([[[ 0.6070,  0.2605, -0.7458, -1.6201],\n",
      "         [-0.6785, -0.4260, -0.0618,  0.4917],\n",
      "         [-1.7352, -1.8096, -1.1181, -0.9091]]], grad_fn=<EmbeddingBackward0>)\n"
     ]
    }
   ],
   "source": [
    "token_embeddings = nn_lm.token_embedding_table(input_token_indexes)\n",
    "print(token_embeddings)"
   ]
  },
  {
   "cell_type": "code",
   "execution_count": 96,
   "metadata": {},
   "outputs": [
    {
     "data": {
      "text/plain": [
       "tensor([[ 280,  776,  325,  300, 3087, 3087, 3087, 3087, 3087, 3087, 3087, 3087,\n",
       "         3087, 3087]])"
      ]
     },
     "execution_count": 96,
     "metadata": {},
     "output_type": "execute_result"
    }
   ],
   "source": [
    "nn_lm.generate(token_indexes, 10)"
   ]
  },
  {
   "cell_type": "code",
   "execution_count": 97,
   "metadata": {},
   "outputs": [
    {
     "name": "stdout",
     "output_type": "stream",
     "text": [
      "入力: 『 → Token id: 280 → Token embedding: [0.6070016026496887, 0.2605016529560089, -0.7458099126815796, -1.6201316118240356] \n",
      "→ Neural Net → \n",
      "776: 0.000, 3552: 0.001, 3087: 0.001, 1717: 0.001 <---学習によって近づける---> Target: 776: 1, 3552: 0, 3087: 0, 1717: 0\n"
     ]
    }
   ],
   "source": [
    "template = \"\"\"入力: {input_text} → Token id: {input_token_id} → Token embedding: {token_embeddings} \n",
    "→ Neural Net → \n",
    "{next_token_prediction_prob} <---学習によって近づける---> Target: {target_prob}\"\"\"\n",
    "for idx, token in enumerate(input_token_indexes[0]):\n",
    "    input_text = tokenizer.decode([input_token_indexes[0].tolist()[idx]])\n",
    "    input_token_id = token.item()\n",
    "    token_embeddings = nn_lm.token_embedding_table(token.unsqueeze(0)).squeeze().detach().numpy().tolist()\n",
    "    next_token_prediction = nn_lm(token.unsqueeze(0))\n",
    "    next_token_prediction = F.softmax(next_token_prediction, dim=-1)\n",
    "    next_token_prediction_top_k_index = torch.topk(next_token_prediction, 3).indices\n",
    "\n",
    "    target_token_id = target_token_indexes[0][idx].item()\n",
    "    pickup_token_indexes = [target_token_id] + next_token_prediction_top_k_index[0].tolist()\n",
    "    next_token_prediction_prob = next_token_prediction[0][pickup_token_indexes].tolist()\n",
    "    next_token_prediction_prob_text = [f'{token_id}: {prob:.3f}' for token_id, prob in zip(pickup_token_indexes, next_token_prediction_prob)]\n",
    "    next_token_prediction_prob = ', '.join(next_token_prediction_prob_text)\n",
    "    target_token_distribution = F.one_hot(target_token_indexes[0][idx], num_classes=vocab_size)[pickup_token_indexes].tolist()\n",
    "    target_token_distribution = [f'{token_id}: {prob}' for token_id, prob in zip(pickup_token_indexes, target_token_distribution)]\n",
    "    target_token_distribution = ', '.join(target_token_distribution)\n",
    "    print(template.format(input_text=input_text, input_token_id=input_token_id, token_embeddings=token_embeddings, next_token_prediction_prob=next_token_prediction_prob, target_prob=target_token_distribution))\n",
    "    break"
   ]
  },
  {
   "cell_type": "code",
   "execution_count": 101,
   "metadata": {},
   "outputs": [
    {
     "name": "stdout",
     "output_type": "stream",
     "text": [
      "number of parameters: 34420\n",
      "epoch: 0, loss: 5.31142520904541\n",
      "epoch: 1, loss: 4.833502292633057\n",
      "epoch: 2, loss: 4.799685955047607\n",
      "epoch: 3, loss: 4.759822368621826\n",
      "epoch: 4, loss: 4.7385759353637695\n",
      "epoch: 5, loss: 4.745643615722656\n",
      "epoch: 6, loss: 4.760054111480713\n",
      "epoch: 7, loss: 4.758265018463135\n",
      "epoch: 8, loss: 4.762548923492432\n",
      "epoch: 9, loss: 4.757440567016602\n"
     ]
    }
   ],
   "source": [
    "# 学習\n",
    "device = torch.device('cuda' if torch.cuda.is_available() else 'cpu')\n",
    "nn_lm = BigramLanguageModel(vocab_size, d_model, d_ff).to(device)\n",
    "optimizer = torch.optim.AdamW(nn_lm.parameters(), lr=1e-3)\n",
    "\n",
    "batch_size = 512\n",
    "epochs = 3\n",
    "for epoch in range(epochs):\n",
    "    for i in range(0, len(mini_train_data_tokens), batch_size):\n",
    "        batch_tokens = mini_train_data_tokens[i:i+batch_size]\n",
    "        input_token_indexes = torch.tensor(batch_tokens).unsqueeze(0)[:, :-1].to(device)\n",
    "        target_token_indexes = torch.tensor(batch_tokens).unsqueeze(0)[:, 1:].to(device)\n",
    "        loss = nn_lm.loss(input_token_indexes, target_token_indexes)\n",
    "        optimizer.zero_grad()\n",
    "        loss.backward()\n",
    "        optimizer.step()\n",
    "    print(f'epoch: {epoch}, loss: {loss.item()}')"
   ]
  },
  {
   "cell_type": "code",
   "execution_count": 102,
   "metadata": {},
   "outputs": [
    {
     "name": "stdout",
     "output_type": "stream",
     "text": [
      "'『'\n",
      "'勝'\n",
      "'つ'\n",
      "'か'\n",
      "'ら'\n",
      "'、'\n",
      "'2'\n",
      "'0'\n",
      "'1'\n",
      "'9'\n",
      "'年'\n",
      "'\\n'\n",
      "' '\n",
      "' '\n",
      "' '\n",
      "' '\n",
      "' '\n",
      "' '\n",
      "' '\n",
      "' '\n",
      "' '\n",
      "' '\n",
      "' '\n",
      "' '\n"
     ]
    }
   ],
   "source": [
    "context = '『勝つか'\n",
    "context_token_indexes = torch.tensor(tokenizer.encode(context)[:-1]).unsqueeze(0).to(device)\n",
    "generated_tokens = nn_lm.generate(context_token_indexes, max_new_tokens=20)\n",
    "for token in generated_tokens[0]:\n",
    "    print(repr(tokenizer.decode([token.item()])))"
   ]
  },
  {
   "cell_type": "code",
   "execution_count": 103,
   "metadata": {},
   "outputs": [
    {
     "data": {
      "text/plain": [
       "tensor(4.4721, device='cuda:0')"
      ]
     },
     "execution_count": 103,
     "metadata": {},
     "output_type": "execute_result"
    }
   ],
   "source": [
    "ngram = Ngram(2, tokenizer.str_to_idx.values())\n",
    "ngram.train(mini_train_data_tokens)\n",
    "ngram.loss(input_token_indexes, target_token_indexes)"
   ]
  },
  {
   "attachments": {},
   "cell_type": "markdown",
   "metadata": {},
   "source": [
    "#### 演習1: MLPの層を増やしたり、学習率などを変更して未来の単語の予測精度向上を試みる"
   ]
  },
  {
   "cell_type": "code",
   "execution_count": null,
   "metadata": {},
   "outputs": [],
   "source": [
    "# WRITE ME"
   ]
  },
  {
   "attachments": {},
   "cell_type": "markdown",
   "metadata": {},
   "source": [
    "言語ベクトルとMLPによるモデル化によって\n",
    "- 密な言語ベクトル表現によって、単語の意味や概念を表現\n",
    "- パラメータ数がO(exp(n))からO(n)へと削減\n",
    "\n",
    "残る課題\n",
    "- 見れる過去の文脈長が固定、増やそうとするとパラメータ数が増加"
   ]
  },
  {
   "attachments": {},
   "cell_type": "markdown",
   "metadata": {},
   "source": [
    "### RNNによるモデル化"
   ]
  },
  {
   "cell_type": "code",
   "execution_count": 145,
   "metadata": {},
   "outputs": [
    {
     "name": "stdout",
     "output_type": "stream",
     "text": [
      "model input [1, 3, 3, 1] ['い', 'え', 'え', 'い']\n",
      "model target [3, 3, 1, 5] ['え', 'え', 'い', '<|endoftext|>']\n"
     ]
    }
   ],
   "source": [
    "import torch\n",
    "\n",
    "vocab = {'あ': 0, 'い': 1, 'う':2, 'え':3, 'お':4, '<|endoftext|>':5}\n",
    "idx_to_ch = dict((v, k) for (k,v) in vocab.items())\n",
    "text = 'いええい'\n",
    "text = list(text) + ['<|endoftext|>']\n",
    "text = [vocab[ch] for ch in text]\n",
    "model_input = torch.tensor(text[:-1])\n",
    "model_target = torch.tensor(text[1:])\n",
    "print('model input', model_input.tolist(), [idx_to_ch[idx] for idx in model_input.tolist()])\n",
    "print('model target', model_target.tolist(), [idx_to_ch[idx] for idx in model_target.tolist()])"
   ]
  },
  {
   "cell_type": "code",
   "execution_count": 146,
   "metadata": {},
   "outputs": [],
   "source": [
    "# RNNの定義\n",
    "vocab_size = len(vocab)\n",
    "embedding_dim = 5\n",
    "hidden_dim = 3\n",
    "hidden_start = torch.zeros((1, hidden_dim)).T\n",
    "word_embedding_table = torch.randn((vocab_size, embedding_dim))\n",
    "\n",
    "We = torch.randn((hidden_dim, embedding_dim))\n",
    "Wh = torch.randn((hidden_dim, hidden_dim))\n",
    "Wy = torch.randn((vocab_size, hidden_dim))"
   ]
  },
  {
   "cell_type": "code",
   "execution_count": 147,
   "metadata": {},
   "outputs": [
    {
     "name": "stdout",
     "output_type": "stream",
     "text": [
      "['い'] ----> RNN ---->  え\n",
      "P(え | い) = 0.887\n",
      "[0.002, 0.003, 0.005, 0.887, 0.001, 0.102] <-----学習によって近づける-----> [0.0, 0.0, 0.0, 1.0, 0.0, 0.0]\n",
      "\n",
      "['い', 'え'] ----> RNN ---->  え\n",
      "P(え | い, え) = 0.111\n",
      "[0.183, 0.145, 0.261, 0.111, 0.007, 0.293] <-----学習によって近づける-----> [0.0, 0.0, 0.0, 1.0, 0.0, 0.0]\n",
      "\n",
      "['い', 'え', 'え'] ----> RNN ---->  い\n",
      "P(い | い, え, え) = 0.127\n",
      "[0.334, 0.127, 0.369, 0.007, 0.137, 0.027] <-----学習によって近づける-----> [0.0, 1.0, 0.0, 0.0, 0.0, 0.0]\n",
      "\n",
      "['い', 'え', 'え', 'い'] ----> RNN ---->  <|endoftext|>\n",
      "P(<|endoftext|> | い, え, え, い) = 0.101\n",
      "[0.004, 0.002, 0.018, 0.875, 0.001, 0.101] <-----学習によって近づける-----> [0.0, 0.0, 0.0, 0.0, 0.0, 1.0]\n",
      "\n"
     ]
    }
   ],
   "source": [
    "# RNNの順伝播の計算の様子\n",
    "h_t_minus_1 = hidden_start\n",
    "input_history = []\n",
    "\n",
    "# 前のステップの計算が次のステップの計算に影響するため並列化が難しい。\n",
    "# RNNの計算複雑度 len(model_input.tolist()) * hidden_dim * hidden_dim = T * d * d\n",
    "for t in range(len(model_input.tolist())):\n",
    "    idx = model_input.tolist()[t]\n",
    "    input_history.append(idx_to_ch[idx])\n",
    "    print(input_history, '----> RNN ----> ', idx_to_ch[model_target.tolist()[t]])\n",
    "    x = torch.LongTensor([idx])\n",
    "    x = word_embedding_table[x].T\n",
    "    # Attentionを導入したいポイント、過去の文脈がh_t_minus_1に押し込まれる\n",
    "    # ネットワークが単語方向に深くなるため学習が不安定に\n",
    "    # d * d, 系列長によらず一定\n",
    "    h_t = torch.tanh(torch.matmul(We, x) + torch.matmul(Wh, h_t_minus_1))\n",
    "    logits = torch.matmul(Wy, h_t)\n",
    "    print(f'P({idx_to_ch[model_target.tolist()[t]]} | {\", \".join(input_history)}) = {torch.softmax(logits, dim=0).squeeze().tolist()[model_target.tolist()[t]]:.3f}')\n",
    "    model_target_onehot = torch.zeros((1, vocab_size))\n",
    "    model_target_onehot[0, model_target.tolist()[t]] = 1\n",
    "    h_t_minus_1 = h_t\n",
    "    output_dist = [float('{:.3f}'.format(output)) for output in torch.softmax(logits, dim=0).squeeze().tolist()]\n",
    "    print(f'{output_dist} <-----学習によって近づける-----> {model_target_onehot.tolist()[0]}')\n",
    "    print()"
   ]
  },
  {
   "attachments": {},
   "cell_type": "markdown",
   "metadata": {},
   "source": [
    "RNNによるモデル化によって\n",
    "- 文脈長を固定せずに、任意の長さの文脈を考慮\n",
    "- 文脈長が増えてもパラメータ数が増えない\n",
    "\n",
    "残る課題\n",
    "- 学習が不安定(勾配消失、勾配爆発)\n",
    "- 並列化ができず、学習が遅い\n",
    "- 文脈長が長くなるとトークンの長距離依存関係の把握が難しくなる。"
   ]
  },
  {
   "cell_type": "markdown",
   "metadata": {},
   "source": [
    "#### 演習2: RNNで学習、生成してみよう"
   ]
  },
  {
   "cell_type": "code",
   "execution_count": 148,
   "metadata": {},
   "outputs": [],
   "source": [
    "# WRITE ME"
   ]
  },
  {
   "attachments": {},
   "cell_type": "markdown",
   "metadata": {},
   "source": [
    "### Transformerによるモデル化と学習"
   ]
  },
  {
   "attachments": {},
   "cell_type": "markdown",
   "metadata": {},
   "source": [
    "Attention $(Q, K, V)=\\operatorname{softmax}\\left(\\frac{Q K^T}{\\sqrt{d_k}}\\right) V$\n",
    "\n",
    "Attention Is All You Needの式(1)より\n",
    "\n",
    "$\\operatorname{FFN}(x)=\\max \\left(0, x W_1+b_1\\right) W_2+b_2$  \n",
    "Attention Is All You Needの式(2)より"
   ]
  },
  {
   "cell_type": "code",
   "execution_count": 149,
   "metadata": {},
   "outputs": [
    {
     "name": "stdout",
     "output_type": "stream",
     "text": [
      "embddingのパラメータ数 38597376\n",
      "positional embeddingのパラメータ数 786432\n",
      "self-attentionのパラメータ数 28311552\n",
      "feed-forwardのパラメータ数 56623104\n",
      "合計パラメータ数 124318464\n",
      "embeddingの割合 0.31047178961284466\n",
      "positional embeddingの割合 0.006325946884285829\n",
      "self-attentionの割合 0.22773408783428983\n",
      "feed-forwardの割合 0.45546817566857967\n"
     ]
    }
   ],
   "source": [
    "import torch\n",
    "\n",
    "# GPT-2 Small\n",
    "vocab_size = 50257\n",
    "d_model = embedding_dim = 768 \n",
    "d_ff = d_model * 4\n",
    "n_head = 12 # Attention is all you needの論文では8\n",
    "n_layer = 12 # Attention is all you needの論文では6\n",
    "d_k = int(d_model / n_head)\n",
    "d_v = int(d_model / n_head)\n",
    "\n",
    "word_embedding_table = torch.randn((vocab_size, embedding_dim))\n",
    "\n",
    "Wq = torch.randn((d_k, embedding_dim))\n",
    "Wk = torch.randn((d_k, embedding_dim))\n",
    "\n",
    "Wv = torch.randn((d_v, embedding_dim))\n",
    "Wo = torch.randn((d_model, d_v * n_head))\n",
    "\n",
    "Wff_1 = torch.randn((d_ff, d_model))\n",
    "Wff_2 = torch.randn((d_model, d_ff))\n",
    "Wy = torch.randn((vocab_size, d_model))\n",
    "\n",
    "params_embedding = vocab_size * embedding_dim\n",
    "print('embddingのパラメータ数', params_embedding)\n",
    "\n",
    "params_positional_embedding = d_model * 1024\n",
    "print('positional embeddingのパラメータ数', params_positional_embedding)\n",
    "\n",
    "params_self_attention = (d_model * d_k * n_head * 2 + d_model * d_v * n_head + d_model * d_v * n_head) * n_layer\n",
    "print('self-attentionのパラメータ数', params_self_attention)\n",
    "\n",
    "params_ff = (d_ff * d_model * 2) * n_layer\n",
    "print('feed-forwardのパラメータ数', params_ff)\n",
    "\n",
    "total_params = params_positional_embedding + params_embedding + params_self_attention + params_ff # + params_unembedding weight tied\n",
    "print('合計パラメータ数', total_params)\n",
    "\n",
    "# パラメータ数の内訳割合\n",
    "print('embeddingの割合', params_embedding / total_params)\n",
    "print('positional embeddingの割合', params_positional_embedding / total_params)\n",
    "print('self-attentionの割合', params_self_attention / total_params)\n",
    "print('feed-forwardの割合', params_ff / total_params)"
   ]
  },
  {
   "cell_type": "code",
   "execution_count": 150,
   "metadata": {},
   "outputs": [
    {
     "name": "stdout",
     "output_type": "stream",
     "text": [
      "embddingのパラメータ数 18\n",
      "positional embeddingのパラメータ数 3072\n",
      "self-attentionのパラメータ数 36\n",
      "feed-forwardのパラメータ数 72\n",
      "合計パラメータ数 3198\n",
      "embeddingの割合 0.005628517823639775\n",
      "positional embeddingの割合 0.9606003752345216\n",
      "self-attentionの割合 0.01125703564727955\n",
      "feed-forwardの割合 0.0225140712945591\n"
     ]
    }
   ],
   "source": [
    "import torch\n",
    "\n",
    "# GPT-2 Small\n",
    "vocab_size = len(vocab)\n",
    "d_model = embedding_dim = 3\n",
    "d_ff = d_model * 4\n",
    "n_head = 1 \n",
    "n_layer = 1 \n",
    "d_k = int(d_model / n_head)\n",
    "d_v = int(d_model / n_head)\n",
    "\n",
    "word_embedding_table = torch.randn((vocab_size, embedding_dim))\n",
    "\n",
    "Wq = torch.randn((d_k, embedding_dim))\n",
    "Wk = torch.randn((d_k, embedding_dim))\n",
    "\n",
    "Wv = torch.randn((d_v, embedding_dim))\n",
    "Wo = torch.randn((d_model, d_v * n_head))\n",
    "\n",
    "Wff_1 = torch.randn((d_ff, d_model))\n",
    "Wff_2 = torch.randn((d_model, d_ff))\n",
    "Wy = torch.randn((vocab_size, d_model))\n",
    "\n",
    "params_embedding = vocab_size * embedding_dim\n",
    "print('embddingのパラメータ数', params_embedding)\n",
    "\n",
    "params_positional_embedding = d_model * 1024\n",
    "print('positional embeddingのパラメータ数', params_positional_embedding)\n",
    "\n",
    "params_self_attention = (d_model * d_k * n_head * 2 + d_model * d_v * n_head + d_model * d_v * n_head) * n_layer\n",
    "print('self-attentionのパラメータ数', params_self_attention)\n",
    "\n",
    "params_ff = (d_ff * d_model * 2) * n_layer\n",
    "print('feed-forwardのパラメータ数', params_ff)\n",
    "\n",
    "total_params = params_positional_embedding + params_embedding + params_self_attention + params_ff # + params_unembedding weight tied\n",
    "print('合計パラメータ数', total_params)\n",
    "\n",
    "# パラメータ数の内訳割合\n",
    "print('embeddingの割合', params_embedding / total_params)\n",
    "print('positional embeddingの割合', params_positional_embedding / total_params)\n",
    "print('self-attentionの割合', params_self_attention / total_params)\n",
    "print('feed-forwardの割合', params_ff / total_params)"
   ]
  },
  {
   "cell_type": "code",
   "execution_count": 151,
   "metadata": {},
   "outputs": [
    {
     "name": "stdout",
     "output_type": "stream",
     "text": [
      "P(え | い) = 0.618\n",
      "[0.022, 0.052, 0.002, 0.618, 0.0, 0.306] <-----学習によって近づける-----> [0.0, 0.0, 0.0, 1.0, 0.0, 0.0]\n",
      "\n",
      "P(え | い, え) = 0.012\n",
      "[0.002, 0.004, 0.0, 0.012, 0.0, 0.982] <-----学習によって近づける-----> [0.0, 0.0, 0.0, 1.0, 0.0, 0.0]\n",
      "\n",
      "P(い | い, え, え) = 0.001\n",
      "[0.001, 0.001, 0.0, 0.003, 0.0, 0.995] <-----学習によって近づける-----> [0.0, 1.0, 0.0, 0.0, 0.0, 0.0]\n",
      "\n",
      "P(<|endoftext|> | い, え, え, い) = 0.998\n",
      "[0.0, 0.0, 0.0, 0.001, 0.0, 0.998] <-----学習によって近づける-----> [0.0, 0.0, 0.0, 0.0, 0.0, 1.0]\n",
      "\n"
     ]
    }
   ],
   "source": [
    "# 並列化されていないSelf-Attention層、FeedForward層の計算\n",
    "quries = []\n",
    "keys = []\n",
    "values = []\n",
    "attention_scores = []\n",
    "attention_outputs = []\n",
    "input_history = []\n",
    "\n",
    "# Self-Attentionの計算複雑度 len(model_input.tolist()) * len(model_input.tolist()) * d_model = T * T * d\n",
    "for t in range(len(model_input.tolist())):\n",
    "    idx = model_input.tolist()[t]\n",
    "    input_history.append(idx_to_ch[idx])\n",
    "    x = torch.LongTensor([idx])\n",
    "    x = word_embedding_table[x].T # + positional_encodings\n",
    "    \n",
    "    # single-head, multi-headになると複数の観点でquery, key, valueの発行をする\n",
    "    query_t = torch.matmul(Wq, x) # 〇〇探してます！ 例: token_0: 自分主語です、目的語とか助詞とか動詞とか探してます！\n",
    "\n",
    "    key_t = torch.matmul(Wk, x) # 〇〇持ってます！ 例: token_0: 自分主語です！ token_1: 自分動詞です!\n",
    "    value_t = torch.matmul(Wv, x) # 中身の詳細です！ 例: token_0: 「拙者」です、珍しい1人称です、お侍さんとかが使ったりします token_1: 「食べる」です、食べ物を口に入れる行為です\n",
    "    \n",
    "    # cross attentionの場合はkey, valueは\n",
    "    # key_t = torch.matmul(Wk, another_modality_x)\n",
    "    # value_t = torch.matmul(Wv, another_modality_x)のようになる\n",
    "\n",
    "    quries.append(query_t)\n",
    "    keys.append(key_t)\n",
    "    values.append(value_t)\n",
    "    # Day2の演習では文章単位でベクトル化したqueryとkeyの内積(類似度)をもとにRetrievalを行った\n",
    "    # 計算複雑度 T * d、系列長によって変化\n",
    "    # 遠く離れた過去の文脈を考慮できる、入力データに応じて相互作用し、その結果が後の深い層でも反映される\n",
    "    attention_score = torch.matmul(query_t.T, torch.stack(keys)) / torch.sqrt(torch.tensor(d_k))\n",
    "    attention_score = torch.softmax(attention_score, dim=0)\n",
    "    attention_scores.append(attention_score.squeeze())\n",
    "    self_attention_output = 0\n",
    "    for i in range(len(attention_score)):\n",
    "        # query、keyのコミュニケーションの結果がvalueに反映される(attention scoreで重み付け)\n",
    "        self_attention_output += attention_score[i] * values[i]\n",
    "    attention_outputs.append(self_attention_output)\n",
    "\n",
    "    # FeedForwardの計算\n",
    "    ff_output = torch.matmul(Wff_2, torch.relu(torch.matmul(Wff_1, self_attention_output)))\n",
    "    # 次単語予測、タスク特化のための分類器を作るような場合には新しくWyを用意して学習する\n",
    "    logits = torch.matmul(Wy, ff_output)\n",
    "    output_dist = [float('{:.3f}'.format(output)) for output in torch.softmax(logits, dim=0).squeeze().tolist()]\n",
    "    \n",
    "    print(f'P({idx_to_ch[model_target.tolist()[t]]} | {\", \".join(input_history)}) = {torch.softmax(logits, dim=0).squeeze().tolist()[model_target.tolist()[t]]:.3f}')\n",
    "    model_target_onehot = torch.zeros((1, vocab_size))\n",
    "    model_target_onehot[0, model_target.tolist()[t]] = 1\n",
    "    print(f'{output_dist} <-----学習によって近づける-----> {model_target_onehot.tolist()[0]}')\n",
    "    print()"
   ]
  },
  {
   "cell_type": "code",
   "execution_count": 153,
   "metadata": {},
   "outputs": [
    {
     "name": "stdout",
     "output_type": "stream",
     "text": [
      "token ['い', 'え', 'え', 'い']\n",
      "い [1.0, 0.0, 0.0, 0.0]\n",
      "----------------------------------------------------------------------------------------------------\n",
      "token ['い', 'え', 'え', 'い']\n",
      "え [0.7121117115020752, 0.2878883183002472, 0.0, 0.0]\n",
      "----------------------------------------------------------------------------------------------------\n",
      "token ['い', 'え', 'え', 'い']\n",
      "え [0.552929699420929, 0.22353515028953552, 0.22353515028953552, 0.0]\n",
      "----------------------------------------------------------------------------------------------------\n",
      "token ['い', 'え', 'え', 'い']\n",
      "い [0.18777570128440857, 0.31222429871559143, 0.31222429871559143, 0.18777570128440857]\n",
      "----------------------------------------------------------------------------------------------------\n"
     ]
    }
   ],
   "source": [
    "# attentionの可視化\n",
    "attention_map = torch.zeros((len(model_input.tolist()), len(model_input.tolist())))\n",
    "for t in range(len(model_input.tolist())):\n",
    "    attention_map[t][:t+1] = attention_scores[t]\n",
    "    print('token', input_history)\n",
    "    print(input_history[t], attention_map[t].tolist())\n",
    "    print('-----' * 20)\n"
   ]
  },
  {
   "cell_type": "code",
   "execution_count": 154,
   "metadata": {},
   "outputs": [
    {
     "name": "stdout",
     "output_type": "stream",
     "text": [
      "P(え | い) = 0.618\n",
      "[0.022, 0.052, 0.002, 0.618, 0.0, 0.306] <-----学習によって近づける-----> [0.0, 0.0, 0.0, 1.0, 0.0, 0.0]\n",
      "\n",
      "P(え | い, え) = 0.012\n",
      "[0.002, 0.004, 0.0, 0.012, 0.0, 0.982] <-----学習によって近づける-----> [0.0, 0.0, 0.0, 1.0, 0.0, 0.0]\n",
      "\n",
      "P(い | い, え, え) = 0.001\n",
      "[0.001, 0.001, 0.0, 0.003, 0.0, 0.995] <-----学習によって近づける-----> [0.0, 1.0, 0.0, 0.0, 0.0, 0.0]\n",
      "\n",
      "P(<|endoftext|> | い, え, え, い) = 0.998\n",
      "[0.0, 0.0, 0.0, 0.001, 0.0, 0.998] <-----学習によって近づける-----> [0.0, 0.0, 0.0, 0.0, 0.0, 1.0]\n",
      "\n"
     ]
    }
   ],
   "source": [
    "# 未来の情報を用いないようにCausal Attentionを用いて並列化(行列の計算にする)\n",
    "input_ids = model_input.tolist()\n",
    "x = torch.LongTensor([input_ids])\n",
    "x = word_embedding_table[x] # + positional_encodings\n",
    "# print(x.shape) # (1, T, embedding_dim)\n",
    "\n",
    "queries = torch.matmul(x.squeeze(), Wq.T) # (T, d_k)\n",
    "keys = torch.matmul(x.squeeze(), Wk.T) # (T, d_k)\n",
    "values = torch.matmul(x.squeeze(), Wv.T) # (T, d_v)\n",
    "# print(queries.shape, keys.shape, values.shape)\n",
    "\n",
    "attention_scores = torch.matmul(queries, keys.T) / torch.sqrt(torch.tensor(d_k)) # (T, T)\n",
    "# causal attention、未来の情報を用いないようにする\n",
    "attention_mask = torch.tril(torch.ones((len(model_input.tolist()), len(model_input.tolist())))) # (T, T)\n",
    "attention_scores = attention_scores.masked_fill(attention_mask==0, float('-inf'))\n",
    "\n",
    "attention_scores = torch.softmax(attention_scores, dim=1) # (T, T)\n",
    "attention_outputs = torch.matmul(attention_scores, values) # (T, d_v)\n",
    "\n",
    "# FeedForwardの計算\n",
    "ff_output = torch.matmul(torch.relu(torch.matmul(attention_outputs, Wff_1.T)), Wff_2.T) # (T, d_model)\n",
    "# print(ff_output.shape)\n",
    "# 次単語予測\n",
    "logits = torch.matmul(ff_output, Wy.T) # (T, vocab_size)\n",
    "output_dists = torch.softmax(logits, dim=1) # (T, vocab_size)\n",
    "\n",
    "for step_t, output_dist in enumerate(output_dists):\n",
    "    print(f'P({idx_to_ch[model_target.tolist()[step_t]]} | {\", \".join(input_history[:step_t + 1])}) = {output_dist[model_target.tolist()[step_t]]:.3f}')\n",
    "    model_target_onehot = torch.zeros((1, vocab_size))\n",
    "    model_target_onehot[0, model_target.tolist()[step_t]] = 1\n",
    "    print(f'{[float(\"{:.3f}\".format(output)) for output in output_dist.tolist()]} <-----学習によって近づける-----> {model_target_onehot.tolist()[0]}')\n",
    "    print()\n"
   ]
  },
  {
   "cell_type": "code",
   "execution_count": 155,
   "metadata": {},
   "outputs": [
    {
     "name": "stdout",
     "output_type": "stream",
     "text": [
      "causal attention前\n",
      "tensor([[-0.1622,  0.3463,  0.3463, -0.1622],\n",
      "        [ 0.1971, -0.7085, -0.7085,  0.1971],\n",
      "        [ 0.1971, -0.7085, -0.7085,  0.1971],\n",
      "        [-0.1622,  0.3463,  0.3463, -0.1622]])\n",
      "tensor([[1., 0., 0., 0.],\n",
      "        [1., 1., 0., 0.],\n",
      "        [1., 1., 1., 0.],\n",
      "        [1., 1., 1., 1.]])\n",
      "causal attention後\n",
      "tensor([[-0.1622,    -inf,    -inf,    -inf],\n",
      "        [ 0.1971, -0.7085,    -inf,    -inf],\n",
      "        [ 0.1971, -0.7085, -0.7085,    -inf],\n",
      "        [-0.1622,  0.3463,  0.3463, -0.1622]])\n",
      "softmax後\n",
      "tensor([[1.0000, 0.0000, 0.0000, 0.0000],\n",
      "        [0.7121, 0.2879, 0.0000, 0.0000],\n",
      "        [0.5529, 0.2235, 0.2235, 0.0000],\n",
      "        [0.1878, 0.3122, 0.3122, 0.1878]])\n"
     ]
    }
   ],
   "source": [
    "attention_scores = torch.matmul(queries, keys.T) / torch.sqrt(torch.tensor(d_k)) # (T, T)\n",
    "print('causal attention前')\n",
    "print(attention_scores)\n",
    "# causal attentionの場合はattention_maskを用いて未来の情報をマスクする\n",
    "attention_mask = torch.tril(torch.ones((len(model_input.tolist()), len(model_input.tolist())))) # (T, T)\n",
    "# 下三角行列で未来の情報をマスク\n",
    "print(attention_mask)\n",
    "# 未来の情報はscoreが0になるように-infを代入(softmaxで0になる)\n",
    "attention_scores = attention_scores.masked_fill(attention_mask==0, float('-inf'))\n",
    "print('causal attention後')\n",
    "print(attention_scores)\n",
    "attention_scores = torch.softmax(attention_scores, dim=1) # (T, T)\n",
    "print('softmax後')\n",
    "print(attention_scores)"
   ]
  },
  {
   "attachments": {},
   "cell_type": "markdown",
   "metadata": {},
   "source": [
    "上記の実装に加え、学習の安定化のためにResidual ConnectionとLayer Normalizationを追加することでTransformerのblockを実装できます。\n",
    "以下にGPT-2の実装と学習のコードを示します。"
   ]
  },
  {
   "cell_type": "code",
   "execution_count": null,
   "metadata": {},
   "outputs": [],
   "source": [
    "# GPT-2の実装 code from https://github.com/karpathy/makemore/tree/master\n",
    "# https://github.com/karpathy/makemore/blob/master/makemore.py\n",
    "\"\"\"\n",
    "MIT License\n",
    "\n",
    "Copyright (c) 2022 Andrej Karpathy\n",
    "\n",
    "Permission is hereby granted, free of charge, to any person obtaining a copy\n",
    "of this software and associated documentation files (the \"Software\"), to deal\n",
    "in the Software without restriction, including without limitation the rights\n",
    "to use, copy, modify, merge, publish, distribute, sublicense, and/or sell\n",
    "copies of the Software, and to permit persons to whom the Software is\n",
    "furnished to do so, subject to the following conditions:\n",
    "\n",
    "The above copyright notice and this permission notice shall be included in all\n",
    "copies or substantial portions of the Software.\n",
    "\n",
    "THE SOFTWARE IS PROVIDED \"AS IS\", WITHOUT WARRANTY OF ANY KIND, EXPRESS OR\n",
    "IMPLIED, INCLUDING BUT NOT LIMITED TO THE WARRANTIES OF MERCHANTABILITY,\n",
    "FITNESS FOR A PARTICULAR PURPOSE AND NONINFRINGEMENT. IN NO EVENT SHALL THE\n",
    "AUTHORS OR COPYRIGHT HOLDERS BE LIABLE FOR ANY CLAIM, DAMAGES OR OTHER\n",
    "LIABILITY, WHETHER IN AN ACTION OF CONTRACT, TORT OR OTHERWISE, ARISING FROM,\n",
    "OUT OF OR IN CONNECTION WITH THE SOFTWARE OR THE USE OR OTHER DEALINGS IN THE\n",
    "SOFTWARE.\n",
    "\"\"\"\n",
    "import os\n",
    "import sys\n",
    "import time\n",
    "import math\n",
    "import argparse\n",
    "from dataclasses import dataclass\n",
    "from typing import List\n",
    "\n",
    "import torch\n",
    "import torch.nn as nn\n",
    "from torch.nn import functional as F\n",
    "from torch.utils.data import Dataset\n",
    "from torch.utils.data.dataloader import DataLoader\n",
    "\n",
    "# -----------------------------------------------------------------------------\n",
    "\n",
    "@dataclass\n",
    "class ModelConfig:\n",
    "    block_size: int = None # length of the input sequences of integers\n",
    "    vocab_size: int = None # the input integers are in range [0 .. vocab_size -1]\n",
    "    # parameters below control the sizes of each model slightly differently\n",
    "    n_layer: int = 4\n",
    "    n_embd: int = 64\n",
    "    n_embd2: int = 64\n",
    "    n_head: int = 4\n",
    "\n",
    "# -----------------------------------------------------------------------------\n",
    "# Transformer Language Model (*exactly* as used in GPT-2)\n",
    "\n",
    "class NewGELU(nn.Module):\n",
    "    \"\"\"\n",
    "    Implementation of the GELU activation function currently in Google BERT repo (identical to OpenAI GPT).\n",
    "    Reference: Gaussian Error Linear Units (GELU) paper: https://arxiv.org/abs/1606.08415\n",
    "    \"\"\"\n",
    "    def forward(self, x):\n",
    "        return 0.5 * x * (1.0 + torch.tanh(math.sqrt(2.0 / math.pi) * (x + 0.044715 * torch.pow(x, 3.0))))\n",
    "\n",
    "class CausalSelfAttention(nn.Module):\n",
    "    \"\"\"\n",
    "    A vanilla multi-head masked self-attention layer with a projection at the end.\n",
    "    It is possible to use torch.nn.MultiheadAttention here but I am including an\n",
    "    explicit implementation here to show that there is nothing too scary here.\n",
    "    \"\"\"\n",
    "\n",
    "    def __init__(self, config):\n",
    "        super().__init__()\n",
    "        assert config.n_embd % config.n_head == 0\n",
    "        # key, query, value projections for all heads, but in a batch\n",
    "        self.c_attn = nn.Linear(config.n_embd, 3 * config.n_embd)\n",
    "        # output projection\n",
    "        self.c_proj = nn.Linear(config.n_embd, config.n_embd)\n",
    "        # causal mask to ensure that attention is only applied to the left in the input sequence\n",
    "        self.register_buffer(\"bias\", torch.tril(torch.ones(config.block_size, config.block_size))\n",
    "                                     .view(1, 1, config.block_size, config.block_size))\n",
    "        self.n_head = config.n_head\n",
    "        self.n_embd = config.n_embd\n",
    "\n",
    "    def forward(self, x):\n",
    "        B, T, C = x.size() # batch size, sequence length, embedding dimensionality (n_embd)\n",
    "\n",
    "        # calculate query, key, values for all heads in batch and move head forward to be the batch dim\n",
    "        q, k ,v  = self.c_attn(x).split(self.n_embd, dim=2)\n",
    "        k = k.view(B, T, self.n_head, C // self.n_head).transpose(1, 2) # (B, nh, T, hs)\n",
    "        q = q.view(B, T, self.n_head, C // self.n_head).transpose(1, 2) # (B, nh, T, hs)\n",
    "        v = v.view(B, T, self.n_head, C // self.n_head).transpose(1, 2) # (B, nh, T, hs)\n",
    "\n",
    "        # causal self-attention; Self-attend: (B, nh, T, hs) x (B, nh, hs, T) -> (B, nh, T, T)\n",
    "        att = (q @ k.transpose(-2, -1)) * (1.0 / math.sqrt(k.size(-1)))\n",
    "        att = att.masked_fill(self.bias[:,:,:T,:T] == 0, float('-inf'))\n",
    "        att = F.softmax(att, dim=-1)\n",
    "        y = att @ v # (B, nh, T, T) x (B, nh, T, hs) -> (B, nh, T, hs)\n",
    "        y = y.transpose(1, 2).contiguous().view(B, T, C) # re-assemble all head outputs side by side\n",
    "\n",
    "        # output projection\n",
    "        y = self.c_proj(y)\n",
    "        return y\n",
    "\n",
    "class Block(nn.Module):\n",
    "    \"\"\" an unassuming Transformer block \"\"\"\n",
    "\n",
    "    def __init__(self, config):\n",
    "        super().__init__()\n",
    "        self.ln_1 = nn.LayerNorm(config.n_embd)\n",
    "        self.attn = CausalSelfAttention(config)\n",
    "        self.ln_2 = nn.LayerNorm(config.n_embd)\n",
    "        self.mlp = nn.ModuleDict(dict(\n",
    "            c_fc    = nn.Linear(config.n_embd, 4 * config.n_embd),\n",
    "            c_proj  = nn.Linear(4 * config.n_embd, config.n_embd),\n",
    "            act     = NewGELU(),\n",
    "        ))\n",
    "        m = self.mlp\n",
    "        self.mlpf = lambda x: m.c_proj(m.act(m.c_fc(x))) # MLP forward\n",
    "\n",
    "    def forward(self, x):\n",
    "        # residual connection\n",
    "        x = x + self.attn(self.ln_1(x))\n",
    "        # residual connection\n",
    "        x = x + self.mlpf(self.ln_2(x))\n",
    "        return x\n",
    "\n",
    "class Transformer(nn.Module):\n",
    "    \"\"\" Transformer Language Model, exactly as seen in GPT-2 \"\"\"\n",
    "\n",
    "    def __init__(self, config):\n",
    "        super().__init__()\n",
    "        self.block_size = config.block_size\n",
    "\n",
    "        self.transformer = nn.ModuleDict(dict(\n",
    "            wte = nn.Embedding(config.vocab_size, config.n_embd),\n",
    "            wpe = nn.Embedding(config.block_size, config.n_embd),\n",
    "            h = nn.ModuleList([Block(config) for _ in range(config.n_layer)]),\n",
    "            ln_f = nn.LayerNorm(config.n_embd),\n",
    "        ))\n",
    "        self.lm_head = nn.Linear(config.n_embd, config.vocab_size, bias=False)\n",
    "\n",
    "        # report number of parameters (note we don't count the decoder parameters in lm_head)\n",
    "        n_params = sum(p.numel() for p in self.transformer.parameters())\n",
    "        print(\"トランスフォーマーのパラメーター数: %.2fM\" % (n_params/1e6,))\n",
    "\n",
    "    def get_block_size(self):\n",
    "        return self.block_size\n",
    "\n",
    "    def forward(self, idx, targets=None):\n",
    "        device = idx.device\n",
    "        b, t = idx.size()\n",
    "        assert t <= self.block_size, f\"Cannot forward sequence of length {t}, block size is only {self.block_size}\"\n",
    "        pos = torch.arange(0, t, dtype=torch.long, device=device).unsqueeze(0) # shape (1, t)\n",
    "\n",
    "        # forward the GPT model itself\n",
    "        tok_emb = self.transformer.wte(idx) # token embeddings of shape (b, t, n_embd)\n",
    "        pos_emb = self.transformer.wpe(pos) # position embeddings of shape (1, t, n_embd)\n",
    "        x = tok_emb + pos_emb\n",
    "        for block in self.transformer.h:\n",
    "            x = block(x)\n",
    "        x = self.transformer.ln_f(x)\n",
    "        logits = self.lm_head(x)\n",
    "\n",
    "        # if we are given some desired targets also calculate the loss\n",
    "        loss = None\n",
    "        if targets is not None:\n",
    "            loss = F.cross_entropy(logits.view(-1, logits.size(-1)), targets.view(-1), ignore_index=-1)\n",
    "\n",
    "        return logits, loss"
   ]
  },
  {
   "attachments": {},
   "cell_type": "markdown",
   "metadata": {},
   "source": [
    "#### 演習2: Transformerのモデルサイズなどのパラメータを変更して未来の単語の予測精度向上を試みる"
   ]
  },
  {
   "attachments": {},
   "cell_type": "markdown",
   "metadata": {},
   "source": [
    "## 参考\n",
    "- [Andrej Karpathy(元TeslaのAIチームのリーダー、現在はOpenAI)によるGPT-2実装までの講義動画](https://www.youtube.com/watch?v=VMj-3S1tku0&list=PLAqhIrjkxbuWI23v9cThsA9GvCAUhRvKZ)\n",
    "- [CS224N: Natural Language Processing with Deep Learning](http://web.stanford.edu/class/cs224n/)\n",
    "    - https://web.stanford.edu/class/cs224n/slides/cs224n-2023-lecture08-transformers.pdf"
   ]
  }
 ],
 "metadata": {
  "kernelspec": {
   "display_name": "Python 3 (ipykernel)",
   "language": "python",
   "name": "python3"
  },
  "language_info": {
   "codemirror_mode": {
    "name": "ipython",
    "version": 3
   },
   "file_extension": ".py",
   "mimetype": "text/x-python",
   "name": "python",
   "nbconvert_exporter": "python",
   "pygments_lexer": "ipython3",
   "version": "3.12.2"
  }
 },
 "nbformat": 4,
 "nbformat_minor": 4
}
